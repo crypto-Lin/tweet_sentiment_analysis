{
 "cells": [
  {
   "cell_type": "markdown",
   "metadata": {},
   "source": [
    "### Processing train data\n",
    "\n"
   ]
  },
  {
   "cell_type": "code",
   "execution_count": 1,
   "metadata": {},
   "outputs": [
    {
     "name": "stdout",
     "output_type": "stream",
     "text": [
      "env: PYTHONHASHSEED=0\n"
     ]
    }
   ],
   "source": [
    "import pandas as pd  \n",
    "import numpy as np\n",
    "import re\n",
    "\n",
    "import matplotlib.pyplot as plt\n",
    "import seaborn as sns\n",
    "\n",
    "from bs4 import BeautifulSoup\n",
    "import requests\n",
    "\n",
    "import emoji\n",
    "import unicodedata as uni\n",
    "\n",
    "import pymongo\n",
    "from pymongo import MongoClient\n",
    "from bson import ObjectId\n",
    "import urllib.parse\n",
    "\n",
    "%matplotlib inline\n",
    "%env PYTHONHASHSEED=0"
   ]
  },
  {
   "cell_type": "markdown",
   "metadata": {},
   "source": [
    "#### 1.1 Loading data"
   ]
  },
  {
   "cell_type": "code",
   "execution_count": 2,
   "metadata": {},
   "outputs": [],
   "source": [
    "cols = ['sentiment','id','date','query_string','user','text']\n",
    "df = pd.read_csv(\"./traindata/training.1600000.processed.noemoticon.csv\",header=None, names=cols, encoding = \"ISO-8859-1\")\n",
    "df.drop(['id', 'date', 'query_string', 'user'], axis=1, inplace=True)"
   ]
  },
  {
   "cell_type": "code",
   "execution_count": 3,
   "metadata": {},
   "outputs": [],
   "source": [
    "df['sentiment'] = df['sentiment'].map({0:0, 4:1})"
   ]
  },
  {
   "cell_type": "code",
   "execution_count": 4,
   "metadata": {},
   "outputs": [
    {
     "data": {
      "text/plain": [
       "{'whiskers': [<matplotlib.lines.Line2D at 0x7f366947fc18>,\n",
       "  <matplotlib.lines.Line2D at 0x7f366947fbe0>],\n",
       " 'caps': [<matplotlib.lines.Line2D at 0x7f366947f6a0>,\n",
       "  <matplotlib.lines.Line2D at 0x7f366947f278>],\n",
       " 'boxes': [<matplotlib.lines.Line2D at 0x7f366947feb8>],\n",
       " 'medians': [<matplotlib.lines.Line2D at 0x7f366b1e9e10>],\n",
       " 'fliers': [<matplotlib.lines.Line2D at 0x7f366b1e9828>],\n",
       " 'means': []}"
      ]
     },
     "execution_count": 4,
     "metadata": {},
     "output_type": "execute_result"
    },
    {
     "data": {
      "image/png": "[encoded data removed]",
      "text/plain": [
       "<Figure size 432x288 with 1 Axes>"
      ]
     },
     "metadata": {
      "needs_background": "light"
     },
     "output_type": "display_data"
    }
   ],
   "source": [
    "df['pre_clean_len'] = [len(text) for text in df['text']]\n",
    "plt.boxplot(df['pre_clean_len'])"
   ]
  },
  {
   "cell_type": "markdown",
   "metadata": {},
   "source": [
    "#### 1.2 cleaning data"
   ]
  },
  {
   "cell_type": "code",
   "execution_count": 5,
   "metadata": {},
   "outputs": [],
   "source": [
    "import nltk\n",
    "from nltk.corpus import stopwords\n",
    "from nltk.stem import WordNetLemmatizer \n",
    "from nltk import word_tokenize, pos_tag\n",
    "from nltk.corpus import wordnet\n",
    "\n",
    "from textblob import Word, TextBlob\n",
    "import enchant"
   ]
  },
  {
   "cell_type": "code",
   "execution_count": 6,
   "metadata": {},
   "outputs": [],
   "source": [
    "test = 'RT @PumpMyCoins: When you reach the pinnacle of #Bitcoin enlightenment 😇👩🏻‍🚀👨🏻‍🚀\\n\\nLeverage Available ✅\\n\\n▶️ https://t.co/SmHZ8nFsKr ◀️\\n\\nRegi…'\n",
    "test = 'i hasn\\'t aren\\'t it\\'s i\\'ve i\\'d don\\'t isn\\'t haven\\'t i\\'m didn\\'t' + test"
   ]
  },
  {
   "cell_type": "code",
   "execution_count": 7,
   "metadata": {},
   "outputs": [],
   "source": [
    "def initMongo(client, collection):\n",
    "    db = client['longhash']\n",
    "    try:\n",
    "        db.create_collection(collection)\n",
    "    except:\n",
    "        pass\n",
    "    return db[collection]\n",
    "\n",
    "# 获取单词的词性\n",
    "def get_wordnet_pos(tag):\n",
    "    if tag.startswith('J'):\n",
    "        return wordnet.ADJ\n",
    "    elif tag.startswith('V'):\n",
    "        return wordnet.VERB\n",
    "    elif tag.startswith('N'):\n",
    "        return wordnet.NOUN\n",
    "    elif tag.startswith('R'):\n",
    "        return wordnet.ADV\n",
    "    else:\n",
    "        return None\n",
    "\n",
    "def my_word_lemmatize(sentence):   \n",
    "    tokens = word_tokenize(sentence)  # 分词\n",
    "    tagged_sent = pos_tag(tokens)     # 获取单词词性\n",
    "\n",
    "    wnl = WordNetLemmatizer()\n",
    "    lemmas_sent = []\n",
    "    for tag in tagged_sent:\n",
    "        wordnet_pos = get_wordnet_pos(tag[1]) or wordnet.NOUN\n",
    "        lemmas_sent.append(wnl.lemmatize(tag[0], pos=wordnet_pos)) # 词形还原\n",
    "\n",
    "    return lemmas_sent\n"
   ]
  },
  {
   "cell_type": "code",
   "execution_count": 8,
   "metadata": {},
   "outputs": [],
   "source": [
    "def clear_tweet_text(text, emoji_data):\n",
    "    filters = ['rt','io','...','..','quot','gt']\n",
    "    \n",
    "    pat1 = r'@[A-Za-z0-9_.-]+'\n",
    "    pat2 = r'http[s]?://(?:[a-zA-Z]|[0-9]|[$-_@.&+]|[!*\\(\\),]|(?:%[0-9a-fA-F][0-9a-fA-F]))+'\n",
    "    combined_pat = r'|'.join((pat1, pat2))    \n",
    "    text_cleaned = re.sub(combined_pat, ' ', text)\n",
    "    \n",
    "    text_cleaned = ' '.join([' '+emoji_data[w]+' ' if w in emoji_data.keys() else w for w in nltk.word_tokenize(text_cleaned)])\n",
    "    text_cleaned = ''.join([' '+emoji_data[c]+' ' if c in emoji_data.keys() else c for c in text_cleaned ])\n",
    "   \n",
    "    letters_only = re.sub(\"[^a-zA-Z!?\\.']\", \" \", text_cleaned)\n",
    "    lower_case = letters_only.lower()\n",
    "    lower_case = lower_case.replace('n\\'t',' not')\n",
    "    \n",
    "    words = my_word_lemmatize(lower_case) \n",
    "    \n",
    "    words = [i for i in words if (len(i)>1) or (i in ['i'])]\n",
    "    cleaned_words = [word for word in words if (d.check(word))]\n",
    "    \n",
    "#     words = nltk.word_tokenize(lower_case) \n",
    "    \n",
    "#     wordnet_lem = WordNetLemmatizer()\n",
    "#     words = [wordnet_lem.lemmatize(i) for i in words]\n",
    "#     #cleaned_words = [i for i in words if (len(i)>1) or (i in ['!','?','i'])]\n",
    "\n",
    "    cleaned_words = [i for i in cleaned_words if i not in filters]\n",
    "    \n",
    "    return ' '.join(cleaned_words)"
   ]
  },
  {
   "cell_type": "code",
   "execution_count": 9,
   "metadata": {},
   "outputs": [
    {
     "data": {
      "text/plain": [
       "'i have not be not it i i do not be not have not i do when you reach the pinnacle of enlightenment smile face with halo woman man leverage available'"
      ]
     },
     "execution_count": 9,
     "metadata": {},
     "output_type": "execute_result"
    }
   ],
   "source": [
    "d = enchant.Dict(\"en_US\")\n",
    "emoji_client = initMongo(MongoClient('mongodb://root:' + urllib.parse.quote('longhash123!@#QAZ') + '@127.0.0.1'), 'emoji_name')    \n",
    "emoji_data = [emoji_client.find_one()][0]   \n",
    "del emoji_data['_id']\n",
    "\n",
    "clear_tweet_text(test, emoji_data)"
   ]
  },
  {
   "cell_type": "code",
   "execution_count": 10,
   "metadata": {},
   "outputs": [],
   "source": [
    "# clean twitter data \n",
    "pat1 = r'@[A-Za-z0-9]+'\n",
    "pat2 = r'https?://[A-Za-z0-9./]+'\n",
    "combined_pat = r'|'.join((pat1, pat2))\n",
    "    \n",
    "def tweet_cleaner(text):\n",
    "    soup = BeautifulSoup(text, 'lxml')\n",
    "    souped = soup.get_text() # Html Decoding\n",
    "    stripped = re.sub(combined_pat, '', souped) # removing symbols and url\n",
    "    try: # UTF-8 BOM \n",
    "        clean = stripped.decode(\"utf-8-sig\").replace(u\"\\ufffd\", \"?\")\n",
    "    except:\n",
    "        clean = stripped\n",
    "    letters_only = re.sub(\"[^a-zA-Z]\", \" \", clean) # keep only letters\n",
    "    lower_case = letters_only.lower() # lower\n",
    "    # During the letters_only process two lines above, it has created unnecessay white spaces,\n",
    "    # I will tokenize and join together to remove unneccessary white spaces\n",
    "    \n",
    "    analysis = TextBlob(lower_case)\n",
    "    words = analysis.words\n",
    "    words = [word.singularize() for word in words]\n",
    "    words = [word.lemmatize() for word in words]\n",
    "    return (\" \".join(words)).strip()"
   ]
  },
  {
   "cell_type": "code",
   "execution_count": 11,
   "metadata": {},
   "outputs": [
    {
     "name": "stdout",
     "output_type": "stream",
     "text": [
      "Tweets 10000 of 1600000 have been processed\n",
      "Tweets 20000 of 1600000 have been processed\n",
      "Tweets 30000 of 1600000 have been processed\n",
      "Tweets 40000 of 1600000 have been processed\n",
      "Tweets 50000 of 1600000 have been processed\n",
      "Tweets 60000 of 1600000 have been processed\n",
      "Tweets 70000 of 1600000 have been processed\n",
      "Tweets 80000 of 1600000 have been processed\n",
      "Tweets 90000 of 1600000 have been processed\n",
      "Tweets 100000 of 1600000 have been processed\n",
      "Tweets 110000 of 1600000 have been processed\n",
      "Tweets 120000 of 1600000 have been processed\n",
      "Tweets 130000 of 1600000 have been processed\n",
      "Tweets 140000 of 1600000 have been processed\n",
      "Tweets 150000 of 1600000 have been processed\n",
      "Tweets 160000 of 1600000 have been processed\n",
      "Tweets 170000 of 1600000 have been processed\n",
      "Tweets 180000 of 1600000 have been processed\n",
      "Tweets 190000 of 1600000 have been processed\n",
      "Tweets 200000 of 1600000 have been processed\n",
      "Tweets 210000 of 1600000 have been processed\n",
      "Tweets 220000 of 1600000 have been processed\n",
      "Tweets 230000 of 1600000 have been processed\n",
      "Tweets 240000 of 1600000 have been processed\n",
      "Tweets 250000 of 1600000 have been processed\n",
      "Tweets 260000 of 1600000 have been processed\n",
      "Tweets 270000 of 1600000 have been processed\n",
      "Tweets 280000 of 1600000 have been processed\n",
      "Tweets 290000 of 1600000 have been processed\n",
      "Tweets 300000 of 1600000 have been processed\n",
      "Tweets 310000 of 1600000 have been processed\n",
      "Tweets 320000 of 1600000 have been processed\n",
      "Tweets 330000 of 1600000 have been processed\n",
      "Tweets 340000 of 1600000 have been processed\n",
      "Tweets 350000 of 1600000 have been processed\n",
      "Tweets 360000 of 1600000 have been processed\n",
      "Tweets 370000 of 1600000 have been processed\n",
      "Tweets 380000 of 1600000 have been processed\n",
      "Tweets 390000 of 1600000 have been processed\n",
      "Tweets 400000 of 1600000 have been processed\n",
      "Tweets 410000 of 1600000 have been processed\n",
      "Tweets 420000 of 1600000 have been processed\n",
      "Tweets 430000 of 1600000 have been processed\n",
      "Tweets 440000 of 1600000 have been processed\n",
      "Tweets 450000 of 1600000 have been processed\n",
      "Tweets 460000 of 1600000 have been processed\n",
      "Tweets 470000 of 1600000 have been processed\n",
      "Tweets 480000 of 1600000 have been processed\n",
      "Tweets 490000 of 1600000 have been processed\n",
      "Tweets 500000 of 1600000 have been processed\n",
      "Tweets 510000 of 1600000 have been processed\n",
      "Tweets 520000 of 1600000 have been processed\n",
      "Tweets 530000 of 1600000 have been processed\n",
      "Tweets 540000 of 1600000 have been processed\n",
      "Tweets 550000 of 1600000 have been processed\n",
      "Tweets 560000 of 1600000 have been processed\n",
      "Tweets 570000 of 1600000 have been processed\n",
      "Tweets 580000 of 1600000 have been processed\n",
      "Tweets 590000 of 1600000 have been processed\n",
      "Tweets 600000 of 1600000 have been processed\n",
      "Tweets 610000 of 1600000 have been processed\n",
      "Tweets 620000 of 1600000 have been processed\n",
      "Tweets 630000 of 1600000 have been processed\n",
      "Tweets 640000 of 1600000 have been processed\n",
      "Tweets 650000 of 1600000 have been processed\n",
      "Tweets 660000 of 1600000 have been processed\n",
      "Tweets 670000 of 1600000 have been processed\n",
      "Tweets 680000 of 1600000 have been processed\n",
      "Tweets 690000 of 1600000 have been processed\n",
      "Tweets 700000 of 1600000 have been processed\n",
      "Tweets 710000 of 1600000 have been processed\n",
      "Tweets 720000 of 1600000 have been processed\n",
      "Tweets 730000 of 1600000 have been processed\n",
      "Tweets 740000 of 1600000 have been processed\n",
      "Tweets 750000 of 1600000 have been processed\n",
      "Tweets 760000 of 1600000 have been processed\n",
      "Tweets 770000 of 1600000 have been processed\n",
      "Tweets 780000 of 1600000 have been processed\n",
      "Tweets 790000 of 1600000 have been processed\n",
      "Tweets 800000 of 1600000 have been processed\n",
      "Tweets 810000 of 1600000 have been processed\n",
      "Tweets 820000 of 1600000 have been processed\n",
      "Tweets 830000 of 1600000 have been processed\n",
      "Tweets 840000 of 1600000 have been processed\n",
      "Tweets 850000 of 1600000 have been processed\n",
      "Tweets 860000 of 1600000 have been processed\n",
      "Tweets 870000 of 1600000 have been processed\n",
      "Tweets 880000 of 1600000 have been processed\n",
      "Tweets 890000 of 1600000 have been processed\n",
      "Tweets 900000 of 1600000 have been processed\n",
      "Tweets 910000 of 1600000 have been processed\n",
      "Tweets 920000 of 1600000 have been processed\n",
      "Tweets 930000 of 1600000 have been processed\n",
      "Tweets 940000 of 1600000 have been processed\n",
      "Tweets 950000 of 1600000 have been processed\n",
      "Tweets 960000 of 1600000 have been processed\n",
      "Tweets 970000 of 1600000 have been processed\n",
      "Tweets 980000 of 1600000 have been processed\n",
      "Tweets 990000 of 1600000 have been processed\n",
      "Tweets 1000000 of 1600000 have been processed\n",
      "Tweets 1010000 of 1600000 have been processed\n",
      "Tweets 1020000 of 1600000 have been processed\n",
      "Tweets 1030000 of 1600000 have been processed\n",
      "Tweets 1040000 of 1600000 have been processed\n",
      "Tweets 1050000 of 1600000 have been processed\n",
      "Tweets 1060000 of 1600000 have been processed\n",
      "Tweets 1070000 of 1600000 have been processed\n",
      "Tweets 1080000 of 1600000 have been processed\n",
      "Tweets 1090000 of 1600000 have been processed\n",
      "Tweets 1100000 of 1600000 have been processed\n",
      "Tweets 1110000 of 1600000 have been processed\n",
      "Tweets 1120000 of 1600000 have been processed\n",
      "Tweets 1130000 of 1600000 have been processed\n",
      "Tweets 1140000 of 1600000 have been processed\n",
      "Tweets 1150000 of 1600000 have been processed\n",
      "Tweets 1160000 of 1600000 have been processed\n",
      "Tweets 1170000 of 1600000 have been processed\n",
      "Tweets 1180000 of 1600000 have been processed\n",
      "Tweets 1190000 of 1600000 have been processed\n",
      "Tweets 1200000 of 1600000 have been processed\n",
      "Tweets 1210000 of 1600000 have been processed\n",
      "Tweets 1220000 of 1600000 have been processed\n",
      "Tweets 1230000 of 1600000 have been processed\n",
      "Tweets 1240000 of 1600000 have been processed\n",
      "Tweets 1250000 of 1600000 have been processed\n",
      "Tweets 1260000 of 1600000 have been processed\n",
      "Tweets 1270000 of 1600000 have been processed\n",
      "Tweets 1280000 of 1600000 have been processed\n",
      "Tweets 1290000 of 1600000 have been processed\n",
      "Tweets 1300000 of 1600000 have been processed\n",
      "Tweets 1310000 of 1600000 have been processed\n",
      "Tweets 1320000 of 1600000 have been processed\n",
      "Tweets 1330000 of 1600000 have been processed\n",
      "Tweets 1340000 of 1600000 have been processed\n",
      "Tweets 1350000 of 1600000 have been processed\n",
      "Tweets 1360000 of 1600000 have been processed\n",
      "Tweets 1370000 of 1600000 have been processed\n",
      "Tweets 1380000 of 1600000 have been processed\n",
      "Tweets 1390000 of 1600000 have been processed\n",
      "Tweets 1400000 of 1600000 have been processed\n",
      "Tweets 1410000 of 1600000 have been processed\n",
      "Tweets 1420000 of 1600000 have been processed\n",
      "Tweets 1430000 of 1600000 have been processed\n",
      "Tweets 1440000 of 1600000 have been processed\n",
      "Tweets 1450000 of 1600000 have been processed\n",
      "Tweets 1460000 of 1600000 have been processed\n",
      "Tweets 1470000 of 1600000 have been processed\n",
      "Tweets 1480000 of 1600000 have been processed\n",
      "Tweets 1490000 of 1600000 have been processed\n",
      "Tweets 1500000 of 1600000 have been processed\n",
      "Tweets 1510000 of 1600000 have been processed\n",
      "Tweets 1520000 of 1600000 have been processed\n",
      "Tweets 1530000 of 1600000 have been processed\n",
      "Tweets 1540000 of 1600000 have been processed\n",
      "Tweets 1550000 of 1600000 have been processed\n",
      "Tweets 1560000 of 1600000 have been processed\n",
      "Tweets 1570000 of 1600000 have been processed\n",
      "Tweets 1580000 of 1600000 have been processed\n",
      "Tweets 1590000 of 1600000 have been processed\n",
      "Tweets 1600000 of 1600000 have been processed\n"
     ]
    }
   ],
   "source": [
    "clean_texts = []\n",
    "for i in range(df['text'].count()):\n",
    "    if((i+1)%10000==0):\n",
    "        print ('Tweets {} of 1600000 have been processed'.format(i+1))\n",
    "    clean_texts.append(clear_tweet_text(df['text'][i], emoji_data))"
   ]
  },
  {
   "cell_type": "code",
   "execution_count": 12,
   "metadata": {},
   "outputs": [],
   "source": [
    "#df = pd.read_csv('./traindata/my_clean_data_nopunctuation.csv')\n",
    "df.to_csv('./traindata/my_clean_data_nopunctuation.csv')"
   ]
  },
  {
   "cell_type": "code",
   "execution_count": 13,
   "metadata": {},
   "outputs": [
    {
     "data": {
      "text/plain": [
       "{'whiskers': [<matplotlib.lines.Line2D at 0x7f364b0827f0>,\n",
       "  <matplotlib.lines.Line2D at 0x7f364b082b70>],\n",
       " 'caps': [<matplotlib.lines.Line2D at 0x7f364b082eb8>,\n",
       "  <matplotlib.lines.Line2D at 0x7f364b08d240>],\n",
       " 'boxes': [<matplotlib.lines.Line2D at 0x7f364b0826a0>],\n",
       " 'medians': [<matplotlib.lines.Line2D at 0x7f364b08d588>],\n",
       " 'fliers': [<matplotlib.lines.Line2D at 0x7f364b08d8d0>],\n",
       " 'means': []}"
      ]
     },
     "execution_count": 13,
     "metadata": {},
     "output_type": "execute_result"
    },
    {
     "data": {
      "image/png": "[encoded data removed]",
      "text/plain": [
       "<Figure size 432x288 with 1 Axes>"
      ]
     },
     "metadata": {
      "needs_background": "light"
     },
     "output_type": "display_data"
    }
   ],
   "source": [
    "df['clean_text'] = clean_texts\n",
    "df['after_clean_len'] = [len(text) for text in df['clean_text']]\n",
    "plt.boxplot(df['after_clean_len'])"
   ]
  },
  {
   "cell_type": "code",
   "execution_count": 14,
   "metadata": {},
   "outputs": [
    {
     "data": {
      "text/plain": [
       "0"
      ]
     },
     "execution_count": 14,
     "metadata": {},
     "output_type": "execute_result"
    }
   ],
   "source": [
    "outlier = df[df['after_clean_len']>150]\n",
    "len(outlier)"
   ]
  },
  {
   "cell_type": "code",
   "execution_count": 15,
   "metadata": {},
   "outputs": [
    {
     "data": {
      "text/html": [
       "<div>\n",
       "<style scoped>\n",
       "    .dataframe tbody tr th:only-of-type {\n",
       "        vertical-align: middle;\n",
       "    }\n",
       "\n",
       "    .dataframe tbody tr th {\n",
       "        vertical-align: top;\n",
       "    }\n",
       "\n",
       "    .dataframe thead th {\n",
       "        text-align: right;\n",
       "    }\n",
       "</style>\n",
       "<table border=\"1\" class=\"dataframe\">\n",
       "  <thead>\n",
       "    <tr style=\"text-align: right;\">\n",
       "      <th></th>\n",
       "      <th>sentiment</th>\n",
       "      <th>text</th>\n",
       "      <th>pre_clean_len</th>\n",
       "      <th>clean_text</th>\n",
       "      <th>after_clean_len</th>\n",
       "    </tr>\n",
       "  </thead>\n",
       "  <tbody>\n",
       "  </tbody>\n",
       "</table>\n",
       "</div>"
      ],
      "text/plain": [
       "Empty DataFrame\n",
       "Columns: [sentiment, text, pre_clean_len, clean_text, after_clean_len]\n",
       "Index: []"
      ]
     },
     "execution_count": 15,
     "metadata": {},
     "output_type": "execute_result"
    }
   ],
   "source": [
    "outlier"
   ]
  },
  {
   "cell_type": "code",
   "execution_count": 16,
   "metadata": {},
   "outputs": [],
   "source": [
    "#df.loc[df.index[1447652],'text']"
   ]
  },
  {
   "cell_type": "code",
   "execution_count": 17,
   "metadata": {},
   "outputs": [],
   "source": [
    "#clear_tweet_text(df.loc[df.index[1447652],'text'],emoji_data)"
   ]
  },
  {
   "cell_type": "code",
   "execution_count": 18,
   "metadata": {},
   "outputs": [],
   "source": [
    "#tweet_cleaner(df.loc[df.index[1447652],'text'])"
   ]
  },
  {
   "cell_type": "markdown",
   "metadata": {},
   "source": [
    "#### 1.3 Loading Pre-trained Word2vec model\n"
   ]
  },
  {
   "cell_type": "code",
   "execution_count": 19,
   "metadata": {},
   "outputs": [],
   "source": [
    "from gensim.models import KeyedVectors\n",
    "w2v_model = KeyedVectors.load_word2vec_format('./traindata/GoogleNews-vectors-negative300.bin', binary=True )\n",
    "embeddings_index = {}\n",
    "for w in w2v_model.vocab.keys():\n",
    "    embeddings_index[w] = w2v_model[w]"
   ]
  },
  {
   "cell_type": "code",
   "execution_count": 20,
   "metadata": {},
   "outputs": [
    {
     "name": "stderr",
     "output_type": "stream",
     "text": [
      "Using TensorFlow backend.\n"
     ]
    }
   ],
   "source": [
    "from keras.preprocessing.text import Tokenizer\n",
    "from keras.preprocessing.sequence import pad_sequences\n",
    "\n",
    "df['clean_text'] = [str(text) for text in df['clean_text'].tolist()]\n",
    "tokenizer = Tokenizer(num_words=100000)\n",
    "tokenizer.fit_on_texts(df['clean_text']) # 只fit一次，多次fit会得到不同的序列号!!\n",
    "sequences = tokenizer.texts_to_sequences(df['clean_text'])\n",
    "x_seq = pad_sequences(sequences, maxlen=140)"
   ]
  },
  {
   "cell_type": "code",
   "execution_count": 21,
   "metadata": {},
   "outputs": [],
   "source": [
    "import pickle\n",
    "\n",
    "#saving\n",
    "with open('./tokenizer.pickle', 'wb') as handle:\n",
    "    pickle.dump(tokenizer, handle, protocol=pickle.HIGHEST_PROTOCOL)\n",
    "\n",
    "# loading\n",
    "# with open('tokenizer.pickle', 'rb') as handle:\n",
    "#     tokenizer = pickle.load(handle)\n"
   ]
  },
  {
   "cell_type": "code",
   "execution_count": 22,
   "metadata": {},
   "outputs": [],
   "source": [
    "num_words = 100000 # only keep top 60000 words\n",
    "embedding_matrix = np.zeros((num_words, 300))\n",
    "for word, i in tokenizer.word_index.items():\n",
    "    if i >= num_words:\n",
    "        continue\n",
    "    embedding_vector = embeddings_index.get(word)\n",
    "    if embedding_vector is not None:\n",
    "        embedding_matrix[i] = embedding_vector"
   ]
  },
  {
   "cell_type": "code",
   "execution_count": 23,
   "metadata": {},
   "outputs": [],
   "source": [
    "def train_test_split(df):\n",
    "    train = np.concatenate((df[:750000], df[800000:1550000]))\n",
    "    test = np.concatenate((df[750000:800000], df[1550000:]))\n",
    "    return train, test\n",
    "# def train_test_split(df):\n",
    "#     train = np.concatenate((df[:75000], df[800000:875000]))\n",
    "#     test = np.concatenate((df[750000:760000], df[875000:885000]))\n",
    "#     return train, test\n",
    "\n",
    "x_train_seq, x_test_seq = train_test_split(x_seq)\n",
    "y_train, y_test = train_test_split(df['sentiment'])"
   ]
  },
  {
   "cell_type": "code",
   "execution_count": 24,
   "metadata": {},
   "outputs": [],
   "source": [
    "# np.save('./traindata/x.np', x_seq)\n",
    "# x_seq = np.fromfile('./traindata/x.np')"
   ]
  },
  {
   "cell_type": "markdown",
   "metadata": {},
   "source": [
    "#### 1.4 Train Classification Model"
   ]
  },
  {
   "cell_type": "code",
   "execution_count": 25,
   "metadata": {},
   "outputs": [],
   "source": [
    "from keras.models import Sequential\n",
    "from keras.layers import Dense, Dropout, Conv1D, GlobalMaxPooling1D\n",
    "from keras.layers import Flatten\n",
    "from keras.layers.embeddings import Embedding\n",
    "from keras.callbacks import ModelCheckpoint\n",
    "from keras.callbacks import EarlyStopping"
   ]
  },
  {
   "cell_type": "code",
   "execution_count": 26,
   "metadata": {},
   "outputs": [
    {
     "name": "stdout",
     "output_type": "stream",
     "text": [
      "WARNING:tensorflow:From /home/zhangli/tweet_sentiment/lib/python3.6/site-packages/tensorflow/python/framework/op_def_library.py:263: colocate_with (from tensorflow.python.framework.ops) is deprecated and will be removed in a future version.\n",
      "Instructions for updating:\n",
      "Colocations handled automatically by placer.\n",
      "WARNING:tensorflow:From /home/zhangli/tweet_sentiment/lib/python3.6/site-packages/tensorflow/python/ops/math_ops.py:3066: to_int32 (from tensorflow.python.ops.math_ops) is deprecated and will be removed in a future version.\n",
      "Instructions for updating:\n",
      "Use tf.cast instead.\n",
      "WARNING:tensorflow:From /home/zhangli/tweet_sentiment/lib/python3.6/site-packages/tensorflow/python/ops/math_grad.py:102: div (from tensorflow.python.ops.math_ops) is deprecated and will be removed in a future version.\n",
      "Instructions for updating:\n",
      "Deprecated in favor of operator or tf.math.divide.\n",
      "Train on 1500000 samples, validate on 100000 samples\n",
      "Epoch 1/30\n",
      "1500000/1500000 [==============================] - 966s 644us/step - loss: 0.4740 - acc: 0.7719 - val_loss: 0.4364 - val_acc: 0.7970\n",
      "\n",
      "Epoch 00001: val_acc improved from -inf to 0.79699, saving model to ./best_cnn_weights.hdf5\n",
      "Epoch 2/30\n",
      "1500000/1500000 [==============================] - 916s 611us/step - loss: 0.4151 - acc: 0.8099 - val_loss: 0.4231 - val_acc: 0.8054\n",
      "\n",
      "Epoch 00002: val_acc improved from 0.79699 to 0.80537, saving model to ./best_cnn_weights.hdf5\n",
      "Epoch 3/30\n",
      "1500000/1500000 [==============================] - 860s 574us/step - loss: 0.3943 - acc: 0.8217 - val_loss: 0.4257 - val_acc: 0.8040\n",
      "\n",
      "Epoch 00003: val_acc did not improve from 0.80537\n",
      "Epoch 4/30\n",
      "1500000/1500000 [==============================] - 1080s 720us/step - loss: 0.3764 - acc: 0.8319 - val_loss: 0.4221 - val_acc: 0.8061\n",
      "\n",
      "Epoch 00004: val_acc improved from 0.80537 to 0.80606, saving model to ./best_cnn_weights.hdf5\n",
      "Epoch 5/30\n",
      "1500000/1500000 [==============================] - 1124s 749us/step - loss: 0.3594 - acc: 0.8414 - val_loss: 0.4332 - val_acc: 0.8027\n",
      "\n",
      "Epoch 00005: val_acc did not improve from 0.80606\n",
      "Epoch 6/30\n",
      "1500000/1500000 [==============================] - 872s 582us/step - loss: 0.3437 - acc: 0.8499 - val_loss: 0.4390 - val_acc: 0.8033\n",
      "\n",
      "Epoch 00006: val_acc did not improve from 0.80606\n",
      "Epoch 7/30\n",
      "1500000/1500000 [==============================] - 1012s 675us/step - loss: 0.3276 - acc: 0.8585 - val_loss: 0.4497 - val_acc: 0.8001\n",
      "\n",
      "Epoch 00007: val_acc did not improve from 0.80606\n",
      "Epoch 8/30\n",
      "1500000/1500000 [==============================] - 846s 564us/step - loss: 0.3138 - acc: 0.8654 - val_loss: 0.4625 - val_acc: 0.7980\n",
      "\n",
      "Epoch 00008: val_acc did not improve from 0.80606\n",
      "Epoch 9/30\n",
      "1500000/1500000 [==============================] - 891s 594us/step - loss: 0.2991 - acc: 0.8725 - val_loss: 0.4811 - val_acc: 0.7936\n",
      "\n",
      "Epoch 00009: val_acc did not improve from 0.80606\n"
     ]
    },
    {
     "data": {
      "text/plain": [
       "<keras.callbacks.History at 0x7f3478549d68>"
      ]
     },
     "execution_count": 26,
     "metadata": {},
     "output_type": "execute_result"
    }
   ],
   "source": [
    "model = Sequential()\n",
    "e = Embedding(100000, 300, weights=[embedding_matrix], input_length=140, trainable=True)\n",
    "model.add(e)\n",
    "\n",
    "model.add(Conv1D(filters=100, kernel_size=2, padding='valid', activation='relu', strides=1))\n",
    "model.add(GlobalMaxPooling1D())\n",
    "model.add(Dense(256, activation='relu'))\n",
    "model.add(Dense(1, activation='sigmoid'))\n",
    "model.compile(loss='binary_crossentropy', optimizer='adam', metrics=['accuracy'])\n",
    "\n",
    "# filepath=\"/root/notebook/Sentiment/trainresult/CNN_best_weights.{epoch:02d}-{val_acc:.4f}.hdf5\"\n",
    "# checkpoint = ModelCheckpoint(filepath, monitor='val_acc', verbose=1, save_best_only=True, mode='max')\n",
    "#model.fit(x_train_seq, y_train, validation_data=(x_test_seq, y_test), epochs=3, batch_size=10000, callbacks = [checkpoint])\n",
    "\n",
    "#filepath=\"./weights-improvement-{epoch:02d}-{val_acc:.2f}.hdf5\"\n",
    "filepath = './best_cnn_weights.hdf5'\n",
    "checkpoint = ModelCheckpoint(filepath, monitor='val_acc', verbose=1, save_best_only=True, mode='max')\n",
    "callbacks_list = [checkpoint]\n",
    "\n",
    "early_stopping = EarlyStopping(monitor='val_loss', patience=5)\n",
    "model.fit(x_train_seq, y_train, validation_data=(x_test_seq, y_test), epochs=30, batch_size=10000, callbacks=[checkpoint,early_stopping])\n"
   ]
  },
  {
   "cell_type": "code",
   "execution_count": 33,
   "metadata": {},
   "outputs": [
    {
     "name": "stdout",
     "output_type": "stream",
     "text": [
      "[[1, 13, 9, 129]]\n",
      "[[  0   0   0   0   0   0   0   0   0   0   0   0   0   0   0   0   0   0\n",
      "    0   0   0   0   0   0   0   0   0   0   0   0   0   0   0   0   0   0\n",
      "    0   0   0   0   0   0   0   0   0   0   0   0   0   0   0   0   0   0\n",
      "    0   0   0   0   0   0   0   0   0   0   0   0   0   0   0   0   0   0\n",
      "    0   0   0   0   0   0   0   0   0   0   0   0   0   0   0   0   0   0\n",
      "    0   0   0   0   0   0   0   0   0   0   0   0   0   0   0   0   0   0\n",
      "    0   0   0   0   0   0   0   0   0   0   0   0   0   0   0   0   0   0\n",
      "    0   0   0   0   0   0   0   0   0   0   1  13   9 129]]\n",
      "score: [[0.53182757]]\n"
     ]
    }
   ],
   "source": [
    "tt = ['i do not hate bitcoin']\n",
    "\n",
    "sequences = tokenizer.texts_to_sequences(tt)\n",
    "print(sequences)\n",
    "x_seq = pad_sequences(sequences, maxlen=140)\n",
    "print(x_seq)\n",
    "\n",
    "print('score:', model.predict(x_seq))"
   ]
  },
  {
   "cell_type": "code",
   "execution_count": 34,
   "metadata": {},
   "outputs": [
    {
     "name": "stdout",
     "output_type": "stream",
     "text": [
      "[[1, 13, 9, 129]]\n",
      "[[  0   0   0   0   0   0   0   0   0   0   0   0   0   0   0   0   0   0\n",
      "    0   0   0   0   0   0   0   0   0   0   0   0   0   0   0   0   0   0\n",
      "    0   0   0   0   0   0   0   0   0   0   0   0   0   0   0   0   0   0\n",
      "    0   0   0   0   0   0   0   0   0   0   0   0   0   0   0   0   0   0\n",
      "    0   0   0   0   0   0   0   0   0   0   0   0   0   0   0   0   0   0\n",
      "    0   0   0   0   0   0   0   0   0   0   0   0   0   0   0   0   0   0\n",
      "    0   0   0   0   0   0   0   0   0   0   0   0   0   0   0   0   0   0\n",
      "    0   0   0   0   0   0   0   0   0   0   1  13   9 129]]\n",
      "score: [[0.53182757]]\n"
     ]
    }
   ],
   "source": [
    "from keras.models import load_model\n",
    "\n",
    "model2 = load_model('./best_cnn_weights.hdf5')\n",
    "# loading\n",
    "with open('tokenizer.pickle', 'rb') as handle:\n",
    "    tokenizer2 = pickle.load(handle)\n",
    "    \n",
    "sequences = tokenizer2.texts_to_sequences(tt)\n",
    "print(sequences)\n",
    "x_seq = pad_sequences(sequences, maxlen=140)\n",
    "print(x_seq)\n",
    "\n",
    "print('score:', model2.predict(x_seq))"
   ]
  },
  {
   "cell_type": "markdown",
   "metadata": {},
   "source": [
    "#### 1.5 Loading history data"
   ]
  },
  {
   "cell_type": "code",
   "execution_count": 29,
   "metadata": {},
   "outputs": [],
   "source": [
    "# get emoji name\n",
    "\n",
    "# url = 'https://emojipedia.org/people/'\n",
    "# r = requests.get(url)\n",
    "# soup = BeautifulSoup(r.text, 'lxml')\n",
    "# table = soup.find('ul',{'class':'emoji-list'})\n",
    "# emoji_data = {}\n",
    "# for li in table.find_all('li'):\n",
    "#     emo = li.find('span',{'class':'emoji'}).get_text()\n",
    "#     name = li.get_text()[len(emo):]\n",
    "    \n",
    "#     emoji_data[emo] = name"
   ]
  },
  {
   "cell_type": "code",
   "execution_count": 30,
   "metadata": {},
   "outputs": [],
   "source": [
    "def get_hist_tweet():\n",
    "    client = initMongo(MongoClient('mongodb://root:' + urllib.parse.quote('longhash123!@#QAZ') + '@127.0.0.1'), SCORE_NOW)\n",
    "    twitter2 = initMongo(MongoClient('mongodb://root:' + urllib.parse.quote('longhash123!@#QAZ') + '@127.0.0.1'), 'twitter_2')\n",
    "\n",
    "    hist_twitter = client.find()\n",
    "\n",
    "    cnt = 0\n",
    "    for item in hist_twitter:\n",
    "        try:\n",
    "            tmp = [clear_tweet_text(words, emoji_data) for words in item['orign_tweet']]\n",
    "        except:\n",
    "            exc.append(item['_id'])\n",
    "            continue\n",
    "        \n",
    "        twitter2.insert_one({'timestamp':item['timestamp'],'created_date':item['created_date'],'clean_tweet':tmp})\n",
    "        cnt += 1\n",
    "        if cnt %1000==0:\n",
    "            print('{} tweets cleaned'.format(cnt))\n",
    "    "
   ]
  },
  {
   "cell_type": "code",
   "execution_count": 31,
   "metadata": {},
   "outputs": [],
   "source": [
    "#get_hist_tweet()"
   ]
  },
  {
   "cell_type": "code",
   "execution_count": 40,
   "metadata": {},
   "outputs": [
    {
     "name": "stdout",
     "output_type": "stream",
     "text": [
      "10000 tweets predicted\n",
      "20000 tweets predicted\n"
     ]
    },
    {
     "name": "stderr",
     "output_type": "stream",
     "text": [
      "/home/zhangli/tweet_sentiment/lib/python3.6/site-packages/numpy/core/fromnumeric.py:3118: RuntimeWarning: Mean of empty slice.\n",
      "  out=out, **kwargs)\n",
      "/home/zhangli/tweet_sentiment/lib/python3.6/site-packages/numpy/core/_methods.py:85: RuntimeWarning: invalid value encountered in double_scalars\n",
      "  ret = ret.dtype.type(ret / rcount)\n"
     ]
    },
    {
     "name": "stdout",
     "output_type": "stream",
     "text": [
      "30000 tweets predicted\n",
      "40000 tweets predicted\n",
      "50000 tweets predicted\n",
      "60000 tweets predicted\n",
      "70000 tweets predicted\n",
      "80000 tweets predicted\n"
     ]
    }
   ],
   "source": [
    "hist_tweet = initMongo(MongoClient('mongodb://root:' + urllib.parse.quote('longhash123!@#QAZ') + '@127.0.0.1'), 'twitter_2')\n",
    "twitters = hist_tweet.find()\n",
    "\n",
    "score = []\n",
    "cnt = 0\n",
    "for item in twitters:\n",
    "    \n",
    "    tweets = item['clean_tweet']\n",
    "\n",
    "    test_sequences = tokenizer.texts_to_sequences(tweets)\n",
    "    test_sequences_padding = pad_sequences(test_sequences, maxlen=140)\n",
    "    scores = model.predict(test_sequences_padding)\n",
    "\n",
    "    score.append(round(np.mean(scores), 4))\n",
    "    cnt += 1\n",
    "    if cnt%10000==0:\n",
    "        print('{} tweets predicted'.format(cnt))"
   ]
  },
  {
   "cell_type": "code",
   "execution_count": 41,
   "metadata": {},
   "outputs": [
    {
     "data": {
      "text/plain": [
       "[<matplotlib.lines.Line2D at 0x7f35047ca390>]"
      ]
     },
     "execution_count": 41,
     "metadata": {},
     "output_type": "execute_result"
    },
    {
     "data": {
      "image/png": "[encoded data removed]",
      "text/plain": [
       "<Figure size 1008x720 with 1 Axes>"
      ]
     },
     "metadata": {
      "needs_background": "light"
     },
     "output_type": "display_data"
    }
   ],
   "source": [
    "df = pd.DataFrame(score, columns=['score'])\n",
    "\n",
    "plt.figure(figsize=(14,10))\n",
    "plt.grid()\n",
    "plt.plot(df.index,df['score'])"
   ]
  },
  {
   "cell_type": "code",
   "execution_count": 42,
   "metadata": {},
   "outputs": [],
   "source": [
    "df['score_2'] = [(ele-0.5)*2 for ele in df['score'].tolist()]"
   ]
  },
  {
   "cell_type": "code",
   "execution_count": 43,
   "metadata": {},
   "outputs": [
    {
     "data": {
      "text/plain": [
       "<matplotlib.axes._subplots.AxesSubplot at 0x7f366a1ad5c0>"
      ]
     },
     "execution_count": 43,
     "metadata": {},
     "output_type": "execute_result"
    },
    {
     "data": {
      "image/png": "[encoded data removed]",
      "text/plain": [
       "<Figure size 432x288 with 1 Axes>"
      ]
     },
     "metadata": {
      "needs_background": "light"
     },
     "output_type": "display_data"
    }
   ],
   "source": [
    "import seaborn as sns\n",
    "sns.boxplot(df['score'])"
   ]
  },
  {
   "cell_type": "code",
   "execution_count": 68,
   "metadata": {},
   "outputs": [
    {
     "name": "stdout",
     "output_type": "stream",
     "text": [
      "['i do not like', 'i like', 'i love', 'i go to exchange', 'i do not hate']\n",
      "score: [[0.11579546]\n",
      " [0.70432734]\n",
      " [0.94294316]\n",
      " [0.8555896 ]\n",
      " [0.53182733]]\n"
     ]
    }
   ],
   "source": [
    "tt = ['i don\\'t like btc','i like btc', 'i love btc','i went to exchange','i didn\\'t hate cryptocoins']\n",
    "t = [clear_tweet_text(ele, emoji_data) for ele in tt]\n",
    "print(t)\n",
    "\n",
    "sequences = tokenizer2.texts_to_sequences(t)\n",
    "x_seq = pad_sequences(sequences, maxlen=140)\n",
    "\n",
    "print('score:', model2.predict(x_seq))\n"
   ]
  },
  {
   "cell_type": "code",
   "execution_count": 57,
   "metadata": {},
   "outputs": [],
   "source": [
    "# clean twitter data \n",
    "pat1 = r'@[A-Za-z0-9]+'\n",
    "pat2 = r'https?://[A-Za-z0-9./]+'\n",
    "combined_pat = r'|'.join((pat1, pat2))\n",
    "\n",
    "def tweet_cleaner(text):\n",
    "    soup = BeautifulSoup(text, 'lxml')\n",
    "    souped = soup.get_text() # Html Decoding\n",
    "    stripped = re.sub(combined_pat, '', souped) # removing symbols and url\n",
    "    try: # UTF-8 BOM \n",
    "        clean = stripped.decode(\"utf-8-sig\").replace(u\"\\ufffd\", \"?\")\n",
    "    except:\n",
    "        clean = stripped\n",
    "    letters_only = re.sub(\"[^a-zA-Z]\", \" \", clean) # keep only letters\n",
    "    lower_case = letters_only.lower() # lower\n",
    "    # During the letters_only process two lines above, it has created unnecessay white spaces,\n",
    "    # I will tokenize and join together to remove unneccessary white spaces\n",
    "    \n",
    "    analysis = TextBlob(lower_case)\n",
    "    words = analysis.words\n",
    "    words = [word.singularize() for word in words]\n",
    "    words = [word.lemmatize() for word in words]\n",
    "    return (\" \".join(words)).strip()"
   ]
  },
  {
   "cell_type": "code",
   "execution_count": 67,
   "metadata": {},
   "outputs": [
    {
     "data": {
      "text/plain": [
       "['i don t like btc',\n",
       " 'i like btc',\n",
       " 'i love btc',\n",
       " 'i went to exchange',\n",
       " 'i didn t hate cryptocoin']"
      ]
     },
     "execution_count": 67,
     "metadata": {},
     "output_type": "execute_result"
    }
   ],
   "source": [
    "dd = [tweet_cleaner(ele) for ele in tt]\n",
    "dd"
   ]
  },
  {
   "cell_type": "code",
   "execution_count": null,
   "metadata": {},
   "outputs": [],
   "source": []
  }
 ],
 "metadata": {
  "kernelspec": {
   "display_name": "tweet_sentiment",
   "language": "python",
   "name": "tweet_sentiment"
  }
 },
 "nbformat": 4,
 "nbformat_minor": 2
}
